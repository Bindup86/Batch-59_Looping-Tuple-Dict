{
 "cells": [
  {
   "cell_type": "code",
   "execution_count": 2,
   "id": "dcbe5b3d",
   "metadata": {},
   "outputs": [
    {
     "name": "stdout",
     "output_type": "stream",
     "text": [
      "['Karthik', 'ramya', 'faisal', 'hameed']\n"
     ]
    }
   ],
   "source": [
    "students = ['Karthik', 'ramya', 'faisal', 'hameed']\n",
    "print(students)"
   ]
  },
  {
   "cell_type": "code",
   "execution_count": 3,
   "id": "eaf0017a",
   "metadata": {},
   "outputs": [
    {
     "data": {
      "text/plain": [
       "list"
      ]
     },
     "execution_count": 3,
     "metadata": {},
     "output_type": "execute_result"
    }
   ],
   "source": [
    "type(students)"
   ]
  },
  {
   "cell_type": "code",
   "execution_count": null,
   "id": "7c3db8bd",
   "metadata": {},
   "outputs": [],
   "source": [
    "# Req: How to appreciate every student?"
   ]
  },
  {
   "cell_type": "code",
   "execution_count": 4,
   "id": "6e183527",
   "metadata": {},
   "outputs": [
    {
     "name": "stdout",
     "output_type": "stream",
     "text": [
      "Keep up the good work,Karthik\n"
     ]
    }
   ],
   "source": [
    "message = f\"Keep up the good work,{students[0]}\" \n",
    "print(message)"
   ]
  },
  {
   "cell_type": "code",
   "execution_count": 6,
   "id": "8d9019c4",
   "metadata": {},
   "outputs": [
    {
     "name": "stdout",
     "output_type": "stream",
     "text": [
      "Keep up the good work,Ramya\n"
     ]
    }
   ],
   "source": [
    "message = f\"Keep up the good work,{students[1].title()}\"\n",
    "print(message)"
   ]
  },
  {
   "cell_type": "code",
   "execution_count": 7,
   "id": "02f8d792",
   "metadata": {},
   "outputs": [
    {
     "name": "stdout",
     "output_type": "stream",
     "text": [
      "Keep up the good work,Faisal\n"
     ]
    }
   ],
   "source": [
    "message = f\"Keep up the good work,{students[2].title()}\"\n",
    "print(message)"
   ]
  },
  {
   "cell_type": "code",
   "execution_count": 8,
   "id": "8f4f14f2",
   "metadata": {},
   "outputs": [
    {
     "name": "stdout",
     "output_type": "stream",
     "text": [
      "Keep up the good work,Hameed\n"
     ]
    }
   ],
   "source": [
    "message = f\"Keep up the good work,{students[3].title()}\"\n",
    "print(message)"
   ]
  },
  {
   "cell_type": "code",
   "execution_count": null,
   "id": "7842be67",
   "metadata": {},
   "outputs": [],
   "source": []
  },
  {
   "cell_type": "code",
   "execution_count": null,
   "id": "0b04c89d",
   "metadata": {},
   "outputs": [],
   "source": [
    "# for Loop \n",
    "General syntax: for tempvar in mainvar:\n",
    "                    print(tempvar)"
   ]
  },
  {
   "cell_type": "code",
   "execution_count": 9,
   "id": "a9660d64",
   "metadata": {},
   "outputs": [
    {
     "name": "stdout",
     "output_type": "stream",
     "text": [
      "Karthik\n",
      "ramya\n",
      "faisal\n",
      "hameed\n"
     ]
    }
   ],
   "source": [
    "students = ['Karthik', 'ramya', 'faisal', 'hameed']\n",
    "for x in students:\n",
    "    print(x)\n",
    "\n"
   ]
  },
  {
   "cell_type": "code",
   "execution_count": 10,
   "id": "70a87ed0",
   "metadata": {},
   "outputs": [
    {
     "name": "stdout",
     "output_type": "stream",
     "text": [
      "Keep up the good work, Karthik\n",
      "Keep up the good work, Ramya\n",
      "Keep up the good work, Faisal\n",
      "Keep up the good work, Hameed\n"
     ]
    }
   ],
   "source": [
    "for a in students:\n",
    "    print(f\"Keep up the good work, {a.title()}\")"
   ]
  },
  {
   "cell_type": "code",
   "execution_count": 11,
   "id": "d7da8396",
   "metadata": {},
   "outputs": [
    {
     "ename": "IndentationError",
     "evalue": "expected an indented block (2371507720.py, line 2)",
     "output_type": "error",
     "traceback": [
      "\u001b[1;36m  Input \u001b[1;32mIn [11]\u001b[1;36m\u001b[0m\n\u001b[1;33m    print(x)\u001b[0m\n\u001b[1;37m    ^\u001b[0m\n\u001b[1;31mIndentationError\u001b[0m\u001b[1;31m:\u001b[0m expected an indented block\n"
     ]
    }
   ],
   "source": [
    "for x in students:\n",
    "print(x)\n"
   ]
  },
  {
   "cell_type": "code",
   "execution_count": 14,
   "id": "e01274c5",
   "metadata": {},
   "outputs": [
    {
     "name": "stdout",
     "output_type": "stream",
     "text": [
      "Keep up the good work, Karthik. Looking forward for today's github URL\n",
      "Keep up the good work, Ramya. Looking forward for today's github URL\n",
      "Keep up the good work, Faisal. Looking forward for today's github URL\n",
      "Keep up the good work, Hameed. Looking forward for today's github URL\n"
     ]
    }
   ],
   "source": [
    "for a in students:\n",
    "    print(f\"Keep up the good work, {a.title()}. Looking forward for today's github URL\")"
   ]
  },
  {
   "cell_type": "code",
   "execution_count": 15,
   "id": "fa2c60e1",
   "metadata": {},
   "outputs": [
    {
     "name": "stdout",
     "output_type": "stream",
     "text": [
      "Keep up the good work, Karthik. Looking forward for today's github URL \n",
      "\n",
      "Keep up the good work, Ramya. Looking forward for today's github URL \n",
      "\n",
      "Keep up the good work, Faisal. Looking forward for today's github URL \n",
      "\n",
      "Keep up the good work, Hameed. Looking forward for today's github URL \n",
      "\n"
     ]
    }
   ],
   "source": [
    "for a in students:\n",
    "    print(f\"Keep up the good work, {a.title()}. Looking forward for today's github URL \\n\")"
   ]
  },
  {
   "cell_type": "code",
   "execution_count": 23,
   "id": "ded4f5cb",
   "metadata": {},
   "outputs": [
    {
     "name": "stdout",
     "output_type": "stream",
     "text": [
      "Keep up the good work, Karthik\n",
      "Looking forward for today's github URL \n",
      "\n",
      "Keep up the good work, Ramya\n",
      "Looking forward for today's github URL \n",
      "\n",
      "Keep up the good work, Faisal\n",
      "Looking forward for today's github URL \n",
      "\n",
      "Keep up the good work, Hameed\n",
      "Looking forward for today's github URL \n",
      "\n"
     ]
    }
   ],
   "source": [
    "for a in students:\n",
    "    print(f\"Keep up the good work, {a.title()}\") \n",
    "    print(f\"Looking forward for today's github URL \\n\") "
   ]
  },
  {
   "cell_type": "code",
   "execution_count": null,
   "id": "0a3f3a05",
   "metadata": {},
   "outputs": [],
   "source": []
  },
  {
   "cell_type": "code",
   "execution_count": null,
   "id": "a321e15c",
   "metadata": {},
   "outputs": [],
   "source": [
    "# Introduction to TUPLE Datatypes:\n",
    "Definition : An immutable list is called Tuple. Will use () for tuple. "
   ]
  },
  {
   "cell_type": "code",
   "execution_count": 24,
   "id": "0fd09055",
   "metadata": {},
   "outputs": [
    {
     "name": "stdout",
     "output_type": "stream",
     "text": [
      "(1, 2, 3, 4)\n"
     ]
    }
   ],
   "source": [
    "numbers = (1,2,3,4)\n",
    "print(numbers)"
   ]
  },
  {
   "cell_type": "code",
   "execution_count": 25,
   "id": "07b7b1a2",
   "metadata": {},
   "outputs": [
    {
     "data": {
      "text/plain": [
       "tuple"
      ]
     },
     "execution_count": 25,
     "metadata": {},
     "output_type": "execute_result"
    }
   ],
   "source": [
    "type(numbers)"
   ]
  },
  {
   "cell_type": "code",
   "execution_count": 26,
   "id": "142f2642",
   "metadata": {},
   "outputs": [
    {
     "name": "stdout",
     "output_type": "stream",
     "text": [
      "('Karthik', 'ramya', 'faisal', 'hameed')\n"
     ]
    }
   ],
   "source": [
    "students = ( 'Karthik', 'ramya', 'faisal', 'hameed')\n",
    "print(students)"
   ]
  },
  {
   "cell_type": "code",
   "execution_count": 27,
   "id": "4647c81d",
   "metadata": {},
   "outputs": [
    {
     "data": {
      "text/plain": [
       "tuple"
      ]
     },
     "execution_count": 27,
     "metadata": {},
     "output_type": "execute_result"
    }
   ],
   "source": [
    "type(students)"
   ]
  },
  {
   "cell_type": "code",
   "execution_count": 29,
   "id": "6f7e021c",
   "metadata": {},
   "outputs": [
    {
     "name": "stdout",
     "output_type": "stream",
     "text": [
      "Ramya\n"
     ]
    }
   ],
   "source": [
    "print(students[1].title())"
   ]
  },
  {
   "cell_type": "code",
   "execution_count": 30,
   "id": "5555cc19",
   "metadata": {},
   "outputs": [
    {
     "name": "stdout",
     "output_type": "stream",
     "text": [
      "Karthik\n",
      "Ramya\n",
      "Faisal\n",
      "Hameed\n"
     ]
    }
   ],
   "source": [
    "for a in students:\n",
    "    print(a.title())"
   ]
  },
  {
   "cell_type": "code",
   "execution_count": null,
   "id": "3f01d629",
   "metadata": {},
   "outputs": [],
   "source": []
  },
  {
   "cell_type": "code",
   "execution_count": null,
   "id": "c75ea293",
   "metadata": {},
   "outputs": [],
   "source": [
    "# Introduction to Dictionary Datatype:\n",
    "Definition: It is a combination of key value pairs. \n",
    "            It is classified as m utable datatype and is defined with {}. \n",
    "            Sort form is dict"
   ]
  },
  {
   "cell_type": "code",
   "execution_count": 31,
   "id": "ab21299e",
   "metadata": {},
   "outputs": [
    {
     "name": "stdout",
     "output_type": "stream",
     "text": [
      "{'color': 'Blue', 'points': 5}\n"
     ]
    }
   ],
   "source": [
    "alien = {'color':'Blue', 'points':5}\n",
    "print(alien)"
   ]
  },
  {
   "cell_type": "code",
   "execution_count": 32,
   "id": "0cc640e4",
   "metadata": {},
   "outputs": [
    {
     "data": {
      "text/plain": [
       "dict"
      ]
     },
     "execution_count": 32,
     "metadata": {},
     "output_type": "execute_result"
    }
   ],
   "source": [
    "type(alien)"
   ]
  },
  {
   "cell_type": "code",
   "execution_count": null,
   "id": "3248d1ef",
   "metadata": {},
   "outputs": [],
   "source": []
  }
 ],
 "metadata": {
  "kernelspec": {
   "display_name": "Python 3 (ipykernel)",
   "language": "python",
   "name": "python3"
  },
  "language_info": {
   "codemirror_mode": {
    "name": "ipython",
    "version": 3
   },
   "file_extension": ".py",
   "mimetype": "text/x-python",
   "name": "python",
   "nbconvert_exporter": "python",
   "pygments_lexer": "ipython3",
   "version": "3.9.12"
  }
 },
 "nbformat": 4,
 "nbformat_minor": 5
}
